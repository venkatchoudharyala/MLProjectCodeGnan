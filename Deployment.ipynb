{
  "nbformat": 4,
  "nbformat_minor": 0,
  "metadata": {
    "colab": {
      "provenance": []
    },
    "kernelspec": {
      "name": "python3",
      "display_name": "Python 3"
    },
    "language_info": {
      "name": "python"
    }
  },
  "cells": [
    {
      "cell_type": "code",
      "source": [
        "!pip install streamlit"
      ],
      "metadata": {
        "colab": {
          "base_uri": "https://localhost:8080/"
        },
        "id": "pqIuC1sACg91",
        "outputId": "c9bebaee-87ea-46a6-8dd9-a1cc3af18de4"
      },
      "execution_count": 2,
      "outputs": [
        {
          "output_type": "stream",
          "name": "stdout",
          "text": [
            "Looking in indexes: https://pypi.org/simple, https://us-python.pkg.dev/colab-wheels/public/simple/\n",
            "Collecting streamlit\n",
            "  Downloading streamlit-1.23.1-py2.py3-none-any.whl (8.9 MB)\n",
            "\u001b[2K     \u001b[90m━━━━━━━━━━━━━━━━━━━━━━━━━━━━━━━━━━━━━━━━\u001b[0m \u001b[32m8.9/8.9 MB\u001b[0m \u001b[31m110.6 MB/s\u001b[0m eta \u001b[36m0:00:00\u001b[0m\n",
            "\u001b[?25hRequirement already satisfied: altair<6,>=4.0 in /usr/local/lib/python3.10/dist-packages (from streamlit) (4.2.2)\n",
            "Collecting blinker<2,>=1.0.0 (from streamlit)\n",
            "  Downloading blinker-1.6.2-py3-none-any.whl (13 kB)\n",
            "Requirement already satisfied: cachetools<6,>=4.0 in /usr/local/lib/python3.10/dist-packages (from streamlit) (5.3.0)\n",
            "Requirement already satisfied: click<9,>=7.0 in /usr/local/lib/python3.10/dist-packages (from streamlit) (8.1.3)\n",
            "Collecting importlib-metadata<7,>=1.4 (from streamlit)\n",
            "  Downloading importlib_metadata-6.6.0-py3-none-any.whl (22 kB)\n",
            "Requirement already satisfied: numpy<2,>=1 in /usr/local/lib/python3.10/dist-packages (from streamlit) (1.22.4)\n",
            "Requirement already satisfied: packaging<24,>=14.1 in /usr/local/lib/python3.10/dist-packages (from streamlit) (23.1)\n",
            "Requirement already satisfied: pandas<3,>=0.25 in /usr/local/lib/python3.10/dist-packages (from streamlit) (1.5.3)\n",
            "Requirement already satisfied: pillow<10,>=6.2.0 in /usr/local/lib/python3.10/dist-packages (from streamlit) (8.4.0)\n",
            "Requirement already satisfied: protobuf<5,>=3.20 in /usr/local/lib/python3.10/dist-packages (from streamlit) (3.20.3)\n",
            "Requirement already satisfied: pyarrow>=4.0 in /usr/local/lib/python3.10/dist-packages (from streamlit) (9.0.0)\n",
            "Collecting pympler<2,>=0.9 (from streamlit)\n",
            "  Downloading Pympler-1.0.1-py3-none-any.whl (164 kB)\n",
            "\u001b[2K     \u001b[90m━━━━━━━━━━━━━━━━━━━━━━━━━━━━━━━━━━━━━━\u001b[0m \u001b[32m164.8/164.8 kB\u001b[0m \u001b[31m21.8 MB/s\u001b[0m eta \u001b[36m0:00:00\u001b[0m\n",
            "\u001b[?25hRequirement already satisfied: python-dateutil<3,>=2 in /usr/local/lib/python3.10/dist-packages (from streamlit) (2.8.2)\n",
            "Requirement already satisfied: requests<3,>=2.4 in /usr/local/lib/python3.10/dist-packages (from streamlit) (2.27.1)\n",
            "Requirement already satisfied: rich<14,>=10.11.0 in /usr/local/lib/python3.10/dist-packages (from streamlit) (13.3.4)\n",
            "Requirement already satisfied: tenacity<9,>=8.0.0 in /usr/local/lib/python3.10/dist-packages (from streamlit) (8.2.2)\n",
            "Requirement already satisfied: toml<2 in /usr/local/lib/python3.10/dist-packages (from streamlit) (0.10.2)\n",
            "Requirement already satisfied: typing-extensions<5,>=4.0.1 in /usr/local/lib/python3.10/dist-packages (from streamlit) (4.5.0)\n",
            "Requirement already satisfied: tzlocal<5,>=1.1 in /usr/local/lib/python3.10/dist-packages (from streamlit) (4.3)\n",
            "Collecting validators<1,>=0.2 (from streamlit)\n",
            "  Downloading validators-0.20.0.tar.gz (30 kB)\n",
            "  Preparing metadata (setup.py) ... \u001b[?25l\u001b[?25hdone\n",
            "Collecting gitpython!=3.1.19,<4,>=3 (from streamlit)\n",
            "  Downloading GitPython-3.1.31-py3-none-any.whl (184 kB)\n",
            "\u001b[2K     \u001b[90m━━━━━━━━━━━━━━━━━━━━━━━━━━━━━━━━━━━━━━\u001b[0m \u001b[32m184.3/184.3 kB\u001b[0m \u001b[31m22.3 MB/s\u001b[0m eta \u001b[36m0:00:00\u001b[0m\n",
            "\u001b[?25hCollecting pydeck<1,>=0.1.dev5 (from streamlit)\n",
            "  Downloading pydeck-0.8.1b0-py2.py3-none-any.whl (4.8 MB)\n",
            "\u001b[2K     \u001b[90m━━━━━━━━━━━━━━━━━━━━━━━━━━━━━━━━━━━━━━━━\u001b[0m \u001b[32m4.8/4.8 MB\u001b[0m \u001b[31m128.2 MB/s\u001b[0m eta \u001b[36m0:00:00\u001b[0m\n",
            "\u001b[?25hRequirement already satisfied: tornado<7,>=6.0.3 in /usr/local/lib/python3.10/dist-packages (from streamlit) (6.3.1)\n",
            "Collecting watchdog (from streamlit)\n",
            "  Downloading watchdog-3.0.0-py3-none-manylinux2014_x86_64.whl (82 kB)\n",
            "\u001b[2K     \u001b[90m━━━━━━━━━━━━━━━━━━━━━━━━━━━━━━━━━━━━━━━━\u001b[0m \u001b[32m82.1/82.1 kB\u001b[0m \u001b[31m10.6 MB/s\u001b[0m eta \u001b[36m0:00:00\u001b[0m\n",
            "\u001b[?25hRequirement already satisfied: entrypoints in /usr/local/lib/python3.10/dist-packages (from altair<6,>=4.0->streamlit) (0.4)\n",
            "Requirement already satisfied: jinja2 in /usr/local/lib/python3.10/dist-packages (from altair<6,>=4.0->streamlit) (3.1.2)\n",
            "Requirement already satisfied: jsonschema>=3.0 in /usr/local/lib/python3.10/dist-packages (from altair<6,>=4.0->streamlit) (4.3.3)\n",
            "Requirement already satisfied: toolz in /usr/local/lib/python3.10/dist-packages (from altair<6,>=4.0->streamlit) (0.12.0)\n",
            "Collecting gitdb<5,>=4.0.1 (from gitpython!=3.1.19,<4,>=3->streamlit)\n",
            "  Downloading gitdb-4.0.10-py3-none-any.whl (62 kB)\n",
            "\u001b[2K     \u001b[90m━━━━━━━━━━━━━━━━━━━━━━━━━━━━━━━━━━━━━━━━\u001b[0m \u001b[32m62.7/62.7 kB\u001b[0m \u001b[31m8.4 MB/s\u001b[0m eta \u001b[36m0:00:00\u001b[0m\n",
            "\u001b[?25hRequirement already satisfied: zipp>=0.5 in /usr/local/lib/python3.10/dist-packages (from importlib-metadata<7,>=1.4->streamlit) (3.15.0)\n",
            "Requirement already satisfied: pytz>=2020.1 in /usr/local/lib/python3.10/dist-packages (from pandas<3,>=0.25->streamlit) (2022.7.1)\n",
            "Requirement already satisfied: six>=1.5 in /usr/local/lib/python3.10/dist-packages (from python-dateutil<3,>=2->streamlit) (1.16.0)\n",
            "Requirement already satisfied: urllib3<1.27,>=1.21.1 in /usr/local/lib/python3.10/dist-packages (from requests<3,>=2.4->streamlit) (1.26.15)\n",
            "Requirement already satisfied: certifi>=2017.4.17 in /usr/local/lib/python3.10/dist-packages (from requests<3,>=2.4->streamlit) (2022.12.7)\n",
            "Requirement already satisfied: charset-normalizer~=2.0.0 in /usr/local/lib/python3.10/dist-packages (from requests<3,>=2.4->streamlit) (2.0.12)\n",
            "Requirement already satisfied: idna<4,>=2.5 in /usr/local/lib/python3.10/dist-packages (from requests<3,>=2.4->streamlit) (3.4)\n",
            "Requirement already satisfied: markdown-it-py<3.0.0,>=2.2.0 in /usr/local/lib/python3.10/dist-packages (from rich<14,>=10.11.0->streamlit) (2.2.0)\n",
            "Requirement already satisfied: pygments<3.0.0,>=2.13.0 in /usr/local/lib/python3.10/dist-packages (from rich<14,>=10.11.0->streamlit) (2.14.0)\n",
            "Requirement already satisfied: pytz-deprecation-shim in /usr/local/lib/python3.10/dist-packages (from tzlocal<5,>=1.1->streamlit) (0.1.0.post0)\n",
            "Requirement already satisfied: decorator>=3.4.0 in /usr/local/lib/python3.10/dist-packages (from validators<1,>=0.2->streamlit) (4.4.2)\n",
            "Collecting smmap<6,>=3.0.1 (from gitdb<5,>=4.0.1->gitpython!=3.1.19,<4,>=3->streamlit)\n",
            "  Downloading smmap-5.0.0-py3-none-any.whl (24 kB)\n",
            "Requirement already satisfied: MarkupSafe>=2.0 in /usr/local/lib/python3.10/dist-packages (from jinja2->altair<6,>=4.0->streamlit) (2.1.2)\n",
            "Requirement already satisfied: attrs>=17.4.0 in /usr/local/lib/python3.10/dist-packages (from jsonschema>=3.0->altair<6,>=4.0->streamlit) (23.1.0)\n",
            "Requirement already satisfied: pyrsistent!=0.17.0,!=0.17.1,!=0.17.2,>=0.14.0 in /usr/local/lib/python3.10/dist-packages (from jsonschema>=3.0->altair<6,>=4.0->streamlit) (0.19.3)\n",
            "Requirement already satisfied: mdurl~=0.1 in /usr/local/lib/python3.10/dist-packages (from markdown-it-py<3.0.0,>=2.2.0->rich<14,>=10.11.0->streamlit) (0.1.2)\n",
            "Requirement already satisfied: tzdata in /usr/local/lib/python3.10/dist-packages (from pytz-deprecation-shim->tzlocal<5,>=1.1->streamlit) (2023.3)\n",
            "Building wheels for collected packages: validators\n",
            "  Building wheel for validators (setup.py) ... \u001b[?25l\u001b[?25hdone\n",
            "  Created wheel for validators: filename=validators-0.20.0-py3-none-any.whl size=19579 sha256=03acc95a2330015a4f9993a58a6d23e317e5bf2fc819ca22696afca410755c50\n",
            "  Stored in directory: /root/.cache/pip/wheels/f2/ed/dd/d3a556ad245ef9dc570c6bcd2f22886d17b0b408dd3bbb9ac3\n",
            "Successfully built validators\n",
            "Installing collected packages: watchdog, validators, smmap, pympler, importlib-metadata, blinker, pydeck, gitdb, gitpython, streamlit\n",
            "Successfully installed blinker-1.6.2 gitdb-4.0.10 gitpython-3.1.31 importlib-metadata-6.6.0 pydeck-0.8.1b0 pympler-1.0.1 smmap-5.0.0 streamlit-1.23.1 validators-0.20.0 watchdog-3.0.0\n"
          ]
        }
      ]
    },
    {
      "cell_type": "code",
      "execution_count": 11,
      "metadata": {
        "id": "3gYCZetyCPMw"
      },
      "outputs": [],
      "source": [
        "import streamlit as st\n",
        "import pandas as pd\n",
        "import pickle\n",
        "import matplotlib.pyplot as plt\n",
        "from sklearn.preprocessing import LabelEncoder"
      ]
    },
    {
      "cell_type": "code",
      "source": [
        "#Connecting to the Google Drive for the Data\n",
        "from google.colab import drive\n",
        "drive.mount('/content/drive')"
      ],
      "metadata": {
        "colab": {
          "base_uri": "https://localhost:8080/"
        },
        "id": "BtwTlq69Df0B",
        "outputId": "c0476163-c200-437e-f247-606271bcc1d3"
      },
      "execution_count": 5,
      "outputs": [
        {
          "output_type": "stream",
          "name": "stdout",
          "text": [
            "Mounted at /content/drive\n"
          ]
        }
      ]
    },
    {
      "cell_type": "code",
      "source": [
        "# Load the trained models\n",
        "DTClassifier = pickle.load(open('/content/drive/MyDrive/CodeGnan/DecisionTree.pkl', 'rb'))\n",
        "RFClassifier = pickle.load(open('/content/drive/MyDrive/CodeGnan/RandomForest.pkl', 'rb'))\n",
        "SVM = pickle.load(open('/content/drive/MyDrive/CodeGnan/SVM.pkl', 'rb'))\n",
        "KNN = pickle.load(open('/content/drive/MyDrive/CodeGnan/KNN.pkl', 'rb'))\n",
        "LRClassifier = pickle.load(open('/content/drive/MyDrive/CodeGnan/LogisticRegression.pkl', 'rb'))\n",
        "MLPC= pickle.load(open('/content/drive/MyDrive/CodeGnan/MLPC.pkl', 'rb'))"
      ],
      "metadata": {
        "id": "izISb2pgCYhB"
      },
      "execution_count": 7,
      "outputs": []
    },
    {
      "cell_type": "code",
      "source": [
        "# Streamlit App\n",
        "def main():\n",
        "  # Set the title and description of the app\n",
        "  st.title(\"Workplace Stress Prediction\")\n",
        "  st.write(\"This app predicts workplace stress based on user input.\")\n",
        "  if st.button(\"Predict Your's\"):\n",
        "    # Create input fields for user to enter features\n",
        "    Age = st.text_input(\"Age\", \"28\")\n",
        "    Education = st.selectbox(\"Education Level\", [\"High School\", \"Bachelor's Degree\", \"Master's Degree\", \"Ph.D.\"])\n",
        "    AvgDailyHours = st.text_input(\"Average Daily Hours\", \"8\")\n",
        "    Department = st.selectbox(\"Department\", [\"Sales\", \"Marketing\", \"Finance\", \"HR\", \"Operations\"])\n",
        "    EducationField = st.selectbox(\"Education Field\", [\"Mathematics\", \"Science\", \"Arts\", \"Engineering\"])\n",
        "    Gender = st.selectbox(\"Gender\", [\"Male\", \"Female\"])\n",
        "    HasFlexibleTimings = st.selectbox(\"Has Flexible Timings\", [\"Yes\", \"No\"])\n",
        "    IsIndividualContributor = st.selectbox(\"Is Individual Contributor\", [\"Yes\", \"No\"])\n",
        "    JobInvolvement = st.slider(\"Job Involvement\", 1, 4, 2)\n",
        "    JobRole = st.selectbox(\"Job Role\", [\"Manager\", \"Engineer\", \"Analyst\", \"Sales\", \"HR\"])\n",
        "    JobSatisfaction = st.slider(\"Job Satisfaction\", 1, 5, 3)\n",
        "    LeavesTaken = st.text_input(\"Leaves Taken\", \"15\")\n",
        "    MaritalStatus = st.selectbox(\"Marital Status\", [\"Single\", \"Married\", \"Divorced\"])\n",
        "    MicromanagedAtWork = st.slider(\"Micromanaged at Work\", 0, 10, 5)\n",
        "    MonthlyIncome = st.text_input(\"Monthly Income\", \"25000\")\n",
        "    NumCompaniesWorked = st.text_input(\"Number of Companies Worked\", \"2\")\n",
        "    PercentSalaryHike = st.text_input(\"Percent Salary Hike\", \"45\")\n",
        "    PerformanceRating = st.slider(\"Performance Rating\", 1, 5, 3)\n",
        "    RelationshipSatisfaction = st.slider(\"Relationship Satisfaction\", 1, 5, 3)\n",
        "    RemoteWorkSatisfaction = st.selectbox(\"Remote Work Satisfaction\", [\"Satisfied\", \"Neutral\", \"Unsatisfied\"])\n",
        "    SelfMotivationLevel = st.slider(\"Self Motivation Level\", 1, 5, 3)\n",
        "    TotalWorkingYears = st.text_input(\"Total Working Years\", \"5\")\n",
        "    TrainingTimesLastYear = st.text_input(\"Training Times Last Year\", \"6\")\n",
        "    WorkLifeBalance = st.slider(\"Work-Life Balance\", 1, 5, 3)\n",
        "    WorkLoadLevel = st.selectbox(\"Work Load Level\", [\"Low\", \"Medium\", \"High\"])\n",
        "    YearsAtCompany = st.text_input(\"Years at Company\", \"2\")\n",
        "    YearsSinceLastPromotion = st.text_input(\"Years Since Last Promotion\", \"2\")\n",
        "    YearsWithCurrManager = st.text_input(\"Years with Current Manager\", \"2\")\n",
        "\n",
        "    UserData = pd.DataFrame({\n",
        "    'Age': [Age],\n",
        "    'Education': [Education],\n",
        "    'AvgDailyHours': [AvgDailyHours],\n",
        "    'Department': [Department],\n",
        "    'EducationField': [EducationField],\n",
        "    'Gender': [Gender],\n",
        "    'HasFlexibleTimings': [HasFlexibleTimings],\n",
        "    'IsIndividualContributor': [IsIndividualContributor],\n",
        "    'JobInvolvement': [JobInvolvement],\n",
        "    'JobRole': [JobRole],\n",
        "    'JobSatisfaction': [JobSatisfaction],\n",
        "    'LeavesTaken': [LeavesTaken],\n",
        "    'MaritalStatus': [MaritalStatus],\n",
        "    'MicromanagedAtWork': [MicromanagedAtWork],\n",
        "    'MonthlyIncome': [MonthlyIncome],\n",
        "    'NumCompaniesWorked': [NumCompaniesWorked],\n",
        "    'PercentSalaryHike': [PercentSalaryHike],\n",
        "    'PerformanceRating': [PerformanceRating],\n",
        "    'RelationshipSatisfaction': [RelationshipSatisfaction],\n",
        "    'RemoteWorkSatisfaction': [RemoteWorkSatisfaction],\n",
        "    'SelfMotivationLevel': [SelfMotivationLevel],\n",
        "    'TotalWorkingYears': [TotalWorkingYears],\n",
        "    'TrainingTimesLastYear': [TrainingTimesLastYear],\n",
        "    'WorkLifeBalance': [WorkLifeBalance],\n",
        "    'WorkLoadLevel': [WorkLoadLevel],\n",
        "    'YearsAtCompany': [YearsAtCompany],\n",
        "    'YearsSinceLastPromotion': [YearsSinceLastPromotion],\n",
        "    'YearsWithCurrManager': [YearsWithCurrManager]})\n",
        "\n",
        "    le = LabelEncoder()\n",
        "    for column in UserData.columns:\n",
        "      TempVal = le.fit_transform(UserData[column].astype('category'))\n",
        "      UserData.drop(labels=[column], axis=\"columns\", inplace=True)\n",
        "      UserData[column] = TempVal\n",
        "\n",
        "    LRPredicted = LRClassifier.predict(UserData)\n",
        "\n",
        "    # Display the predictions\n",
        "    st.subheader(\"Predictions\")\n",
        "    if(LRPredicted == 0):\n",
        "      st.write(\"You are a bit STRESSED!, take some assistance..\")\n",
        "    else:\n",
        "      st.write(\"You are perfectly alright keep Rocking!!\")\n",
        "\n",
        "if __name__ == \"__main__\":\n",
        "    main()"
      ],
      "metadata": {
        "id": "zU2MoN40DctK"
      },
      "execution_count": 15,
      "outputs": []
    },
    {
      "cell_type": "code",
      "source": [
        "     # Plot the prediction probabilities for all models\n",
        "    if st.sidebar.button(\"About\"):\n",
        "        models = ['Decision Tree', 'Random Forest', 'Support Vector Machines', 'k-Nearest Neighbors', 'Logistic Regression']\n",
        "        probabilities = [decision_tree_prediction[0], random_forest_prediction[0], support_vector_prediction[0],\n",
        "                         knn_prediction[0], logistic_regression_prediction[0]]\n",
        "\n",
        "        df = pd.DataFrame({'Model': models, 'Probability': probabilities})\n",
        "\n",
        "        plt.bar(df['Model'], df['Probability'])\n",
        "        plt.xlabel('Model')\n",
        "        plt.ylabel('Probability')\n",
        "        plt.title('Prediction Probabilities for Different Models')\n",
        "        st.pyplot()\n",
        "\n",
        "if __name__ == \"__main__\":\n",
        "    main()"
      ],
      "metadata": {
        "id": "ohHvd77fFbIv"
      },
      "execution_count": null,
      "outputs": []
    }
  ]
}